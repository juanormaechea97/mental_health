{
 "cells": [
  {
   "cell_type": "code",
   "execution_count": null,
   "metadata": {
    "vscode": {
     "languageId": "plaintext"
    }
   },
   "outputs": [],
   "source": [
    "\n",
    "import sqlite3\n",
    "import pandas as pd\n",
    "\n",
    "# Conectar a la base de datos\n",
    "conn = sqlite3.connect(\"../db/eurostat.db\")\n",
    "\n",
    "# Mostrar las primeras filas\n",
    "df = pd.read_sql_query(\"SELECT * FROM eurostat LIMIT 10\", conn)\n",
    "df.head()\n",
    "\n"
   ]
  }
 ],
 "metadata": {
  "language_info": {
   "name": "python"
  }
 },
 "nbformat": 4,
 "nbformat_minor": 2
}
